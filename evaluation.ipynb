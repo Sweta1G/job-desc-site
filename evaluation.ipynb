{
 "cells": [
  {
   "cell_type": "code",
   "execution_count": null,
   "metadata": {
    "vscode": {
     "languageId": "plaintext"
    }
   },
   "outputs": [],
   "source": [
    "import json\n",
    "from app.recommender import recommend\n",
    "\n",
    "with open(\"data/shl_catalog.json\") as f:\n",
    "    catalog = json.load(f)\n",
    "\n",
    "# Ground truth for evaluation\n",
    "samples = [\n",
    "    {\n",
    "        \"query\": \"Looking for a Python developer with backend experience\",\n",
    "        \"expected_keywords\": [\"Python\", \"Coding\"]\n",
    "    },\n",
    "    {\n",
    "        \"query\": \"Assess analytical thinking and logical deduction\",\n",
    "        \"expected_keywords\": [\"Verbal\", \"Reasoning\"]\n",
    "    }\n",
    "]\n",
    "\n",
    "# Evaluate recall@3\n",
    "def evaluate_recall(samples):\n",
    "    correct = 0\n",
    "    for sample in samples:\n",
    "        recs = recommend(sample[\"query\"], top_k=3)\n",
    "        found = any(any(kw.lower() in rec[\"name\"].lower() for kw in sample[\"expected_keywords\"]) for rec in recs)\n",
    "        correct += found\n",
    "    return correct / len(samples)\n",
    "\n",
    "recall_at_3 = evaluate_recall(samples)\n",
    "print(\"Recall@3 =\", recall_at_3)\n"
   ]
  }
 ],
 "metadata": {
  "language_info": {
   "name": "python"
  }
 },
 "nbformat": 4,
 "nbformat_minor": 2
}
